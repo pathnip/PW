{
 "cells": [
  {
   "cell_type": "raw",
   "id": "1509dac9-1c4d-4f27-a07c-a9033179979d",
   "metadata": {},
   "source": [
    "# Declare two variables, `x` and `y`, and assign them integer values. Swap the values of these variables without using any temporary variable.\n"
   ]
  },
  {
   "cell_type": "code",
   "execution_count": 1,
   "id": "d309edc6-5bda-47f9-854d-8b76a60ad662",
   "metadata": {},
   "outputs": [
    {
     "name": "stdout",
     "output_type": "stream",
     "text": [
      " Value of X is : 2 \n",
      " Value of Y is : 1\n"
     ]
    }
   ],
   "source": [
    "x=1\n",
    "y=2\n",
    "x=x+y\n",
    "y = x-y\n",
    "x=x-y\n",
    "print(\" Value of X is :\", x,'\\r\\n',\"Value of Y is :\", y)"
   ]
  },
  {
   "cell_type": "raw",
   "id": "2cdc2fa5-8cb3-47cf-aa45-7fa45186bad2",
   "metadata": {},
   "source": [
    "# Create a program that calculates the area of a rectangle. Take the length and\n",
    "width as inputs from the user and store them in variables. Calculate and\n",
    "display the area."
   ]
  },
  {
   "cell_type": "code",
   "execution_count": 2,
   "id": "adf5a8b1-d15f-4092-9c1b-36a78626dbb8",
   "metadata": {},
   "outputs": [
    {
     "name": "stdin",
     "output_type": "stream",
     "text": [
      "Please enter the length :  4\n",
      "Please enter the width :  5\n"
     ]
    },
    {
     "name": "stdout",
     "output_type": "stream",
     "text": [
      "The Area of a Rectangle =  20.0\n"
     ]
    }
   ],
   "source": [
    "length = float(input('Please enter the length : '))\n",
    "width = float(input('Please enter the width : '))\n",
    "area = length * width\n",
    "print(\"The Area of a Rectangle = \", area)"
   ]
  },
  {
   "cell_type": "raw",
   "id": "f67c9a45-ab0d-4bf5-ae02-d1cb0a1e1929",
   "metadata": {},
   "source": [
    "Write a Python program that converts temperatures from Celsius to\n",
    "Fahrenheit. Take the temperature in Celsius as input, store it in a variable,\n",
    "convert it to Fahrenheit, and display the result."
   ]
  },
  {
   "cell_type": "code",
   "execution_count": 3,
   "id": "be371fef-a5eb-4eb4-9ce3-578e17b5623c",
   "metadata": {},
   "outputs": [
    {
     "name": "stdin",
     "output_type": "stream",
     "text": [
      "Enter the Temperature in Celsius : 0\n"
     ]
    },
    {
     "name": "stdout",
     "output_type": "stream",
     "text": [
      "Temperature in Fahrenheit : 32.0\n"
     ]
    }
   ],
   "source": [
    "C = int(input(\"Enter the Temperature in Celsius :\"))\n",
    "F = (1.8 * C) + 32.\n",
    "print(\"Temperature in Fahrenheit :\", F)"
   ]
  },
  {
   "cell_type": "raw",
   "id": "11065a29-0950-4c91-9c36-0611b16b6afd",
   "metadata": {},
   "source": [
    "Write a Python program that takes a string as input and prints the length of\n",
    "the string."
   ]
  },
  {
   "cell_type": "code",
   "execution_count": 4,
   "id": "be53ad3e-9abb-4153-af78-cff382ae047b",
   "metadata": {},
   "outputs": [
    {
     "name": "stdin",
     "output_type": "stream",
     "text": [
      "Enter the string: Hello\n"
     ]
    },
    {
     "name": "stdout",
     "output_type": "stream",
     "text": [
      "Length of input String : 5\n"
     ]
    }
   ],
   "source": [
    "Strings = str(input(\"Enter the string:\"))\n",
    "print(\"Length of input String :\", len(Strings))"
   ]
  },
  {
   "cell_type": "raw",
   "id": "0e8b07d9-d6b5-4209-a5e5-c10dec7273c3",
   "metadata": {},
   "source": [
    "Create a program that takes a sentence from the user and counts the number\n",
    "of vowels (a, e, i, o, u) in the string."
   ]
  },
  {
   "cell_type": "code",
   "execution_count": 5,
   "id": "29b2231a-7457-42da-aff7-0359f6b127e3",
   "metadata": {},
   "outputs": [
    {
     "name": "stdin",
     "output_type": "stream",
     "text": [
      "Enter the sentence: Lets test vowels\n"
     ]
    },
    {
     "name": "stdout",
     "output_type": "stream",
     "text": [
      "Number of vowel in Sentence is/are : 4\n"
     ]
    }
   ],
   "source": [
    "Sentence = str(input(\"Enter the sentence:\"))\n",
    "vowels = \"aeiouAEIOU\"\n",
    "count = sum(Sentence.count(vowel) for vowel in vowels)\n",
    "print(\"Number of vowel in Sentence is/are :\", count)"
   ]
  },
  {
   "cell_type": "raw",
   "id": "0dd0b8ea-c9e3-47bd-ba16-7ca5a3372f51",
   "metadata": {},
   "source": [
    "Given a string, reverse the order of characters using string slicing and print\n",
    "the reversed string."
   ]
  },
  {
   "cell_type": "code",
   "execution_count": 6,
   "id": "1fd1489c-d39f-400c-8f36-d00c8ea08699",
   "metadata": {},
   "outputs": [
    {
     "name": "stdin",
     "output_type": "stream",
     "text": [
      "Enter the string: Let me reverse the string\n"
     ]
    },
    {
     "name": "stdout",
     "output_type": "stream",
     "text": [
      "Reversed string is : gnirts eht esrever em teL\n"
     ]
    }
   ],
   "source": [
    "Strings = str(input(\"Enter the string:\"))\n",
    "Reversed = Strings[::-1]\n",
    "print(\"Reversed string is :\",Reversed)"
   ]
  },
  {
   "cell_type": "raw",
   "id": "f54ee9c2-4a22-4e36-a7d8-3a202e9351b9",
   "metadata": {},
   "source": [
    "Write a program that takes a string as input and checks if it is a palindrome\n",
    "(reads the same forwards and backwards)."
   ]
  },
  {
   "cell_type": "code",
   "execution_count": 7,
   "id": "39ce6a8a-f56d-4b67-8982-fe6ea8bb8896",
   "metadata": {},
   "outputs": [
    {
     "name": "stdin",
     "output_type": "stream",
     "text": [
      "Enter the string: Palindrome\n"
     ]
    },
    {
     "name": "stdout",
     "output_type": "stream",
     "text": [
      "String is not a palindrome\n"
     ]
    }
   ],
   "source": [
    "Strings = str(input(\"Enter the string:\"))\n",
    "# convert string to lower case\n",
    "S= Strings.lower()\n",
    "Reversed = S[::-1]\n",
    "if (S == Reversed):\n",
    "    print(\"String is a palindrome\")\n",
    "else:\n",
    "        print(\"String is not a palindrome\")"
   ]
  },
  {
   "cell_type": "raw",
   "id": "cae905ea-e38a-4391-9448-59f1ee3ab4ef",
   "metadata": {},
   "source": [
    "Create a program that takes a string as input and removes all the spaces from\n",
    "it. Print the modified string without spaces."
   ]
  },
  {
   "cell_type": "code",
   "execution_count": 8,
   "id": "04c76e88-2190-4209-a387-35777aaf9058",
   "metadata": {},
   "outputs": [
    {
     "name": "stdin",
     "output_type": "stream",
     "text": [
      "Enter the string: Lets remove space\n"
     ]
    },
    {
     "name": "stdout",
     "output_type": "stream",
     "text": [
      "String without space is : Letsremovespace\n"
     ]
    }
   ],
   "source": [
    "Strings = str(input(\"Enter the string:\"))\n",
    "Strings = Strings.replace(' ','')\n",
    "print(\"String without space is :\",Strings)"
   ]
  }
 ],
 "metadata": {
  "kernelspec": {
   "display_name": "Python 3 (ipykernel)",
   "language": "python",
   "name": "python3"
  },
  "language_info": {
   "codemirror_mode": {
    "name": "ipython",
    "version": 3
   },
   "file_extension": ".py",
   "mimetype": "text/x-python",
   "name": "python",
   "nbconvert_exporter": "python",
   "pygments_lexer": "ipython3",
   "version": "3.10.8"
  }
 },
 "nbformat": 4,
 "nbformat_minor": 5
}
